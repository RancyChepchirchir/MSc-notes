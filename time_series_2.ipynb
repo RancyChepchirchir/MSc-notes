{
 "cells": [
  {
   "cell_type": "markdown",
   "metadata": {
    "slideshow": {
     "slide_type": "slide"
    }
   },
   "source": [
    "# Autoregression and Moving Average\n",
    "\n",
    "* Box-Jenkins (1976)\n",
    "* No economic theory. For fitting and prediction only."
   ]
  },
  {
   "cell_type": "markdown",
   "metadata": {
    "slideshow": {
     "slide_type": "slide"
    }
   },
   "source": [
    "# Time Series Probability Model\n",
    "\n",
    "* $X(t,\\omega)$\n",
    "* For a fixed $t=1,\\ldots,T,$ $X(t,\\cdot)$ is a random variable\n",
    "* For a fixed $\\omega \\in \\Omega$, $X(\\cdot,\\omega)$ is a sequence\n"
   ]
  },
  {
   "cell_type": "markdown",
   "metadata": {
    "slideshow": {
     "slide_type": "slide"
    }
   },
   "source": [
    "# Some Simple Models\n",
    "\n",
    "* White noise: $(e_t)_{t=-\\infty}^{\\infty}$:\n",
    "    * $E[e_t] = 0$, $E[e_t^2] = \\sigma_e^2$, and $E[e_t, e_s] = 0$ for all $t\\neq s$. "
   ]
  },
  {
   "cell_type": "markdown",
   "metadata": {
    "slideshow": {
     "slide_type": "slide"
    }
   },
   "source": [
    "# ARMA\n",
    "\n",
    "\n",
    "* AR(p) $$ y_t = \\mu + \\gamma_1 y_{t-1} + \\cdots \\gamma_p y_{t-p} + e_t $$\n",
    "* MA(q) $$ y_t = \\mu + e_t - \\theta_1 e_{t-1} - \\theta_q e_{t-q} + e_t $$\n",
    "* ARMA(p,q) $$(1-\\Gamma(L) ) y_t = \\mu + \\Theta (L) e_t$$\n",
    "\n",
    "Stationarity: in AR form whether all roots lies out of the unit cycle."
   ]
  },
  {
   "cell_type": "markdown",
   "metadata": {
    "slideshow": {
     "slide_type": "slide"
    }
   },
   "source": [
    "# Autocorrelation Pattern\n",
    "\n",
    "\n",
    "* MA(q): finite dependence\n",
    "* AR(1): geometric decline\n",
    "    * $E[ y_t ] = \\mu / (1-\\gamma_1)$\n",
    "    * $\\mathrm{var}[y_t] = \\sigma_e^2 / (1-\\gamma_1^2 )$\n",
    "    * $E[ y_t | y_{t-1} ] = \\mu + \\gamma_1 y_{t-1}$\n",
    "    * $\\mathrm{var}[y_t | y_{t-1} ] = \\sigma_e^2 $\n",
    "    \n"
   ]
  },
  {
   "cell_type": "markdown",
   "metadata": {
    "slideshow": {
     "slide_type": "slide"
    }
   },
   "source": [
    "# Modeling\n",
    "\n",
    "* Transform into stationary time series by taking logarithm and/or difference.\n",
    "* Fit ARMA(p,q)\n",
    "\n",
    "# Estimation\n",
    "\n",
    "* MLE for MA(q)\n",
    "* MLE for ARMA(p,q)\n",
    "* OLS for AR(p)\n"
   ]
  },
  {
   "cell_type": "markdown",
   "metadata": {
    "slideshow": {
     "slide_type": "slide"
    }
   },
   "source": [
    "# AR(1) without drift\n",
    "\n",
    "$$y_t = \\gamma_1 y_{t-1} + e_t$$\n",
    "\n",
    "$$\n",
    "\\begin{align*}\n",
    "\\sqrt{T} ( \\hat{\\gamma}_1 - \\gamma_1 ) & = \\sqrt{T} \\frac{ \\sum_{t=2}^T y_{t-1} e_t }{\\sum_{t=2}^{T} y_{t-1}^2 } \\\\\n",
    "& \\stackrel{d}{\\to} N \\bigg( 0, \\frac{  \\mathrm{var}[y_t] \\mathrm{var}[e_t] }{ (\\mathrm{var}[y_t])^2 }  \\bigg)\\\\\n",
    "& \\sim N \\bigg(0, \\frac{\\sigma_e^2}{ \\sigma_e^2 / (1-\\gamma_1^2) } \\bigg) \\\\\n",
    "& \\sim N\\big(0,  1-\\gamma_1^2  \\big) \n",
    "\\end{align*}\n",
    "$$\n",
    "\n",
    "\n",
    "        "
   ]
  },
  {
   "cell_type": "markdown",
   "metadata": {
    "slideshow": {
     "slide_type": "subslide"
    }
   },
   "source": [
    "What happens when $|\\gamma_1| \\to 1$?"
   ]
  },
  {
   "cell_type": "markdown",
   "metadata": {
    "slideshow": {
     "slide_type": "slide"
    }
   },
   "source": [
    "# Unit Root\n",
    "\n",
    "* ARIMA(1,1,0) $$y_t = \\mu + y_{t-1} + e_t $$\n",
    "* Nonstationary\n",
    "* Brownian motion: normal innovation\n",
    "* Random walk"
   ]
  },
  {
   "cell_type": "markdown",
   "metadata": {
    "slideshow": {
     "slide_type": "slide"
    }
   },
   "source": [
    "## Implication\n",
    "* mean\n",
    "* variance\n",
    "* $h$-period ahead forecast"
   ]
  },
  {
   "cell_type": "markdown",
   "metadata": {
    "slideshow": {
     "slide_type": "fragment"
    }
   },
   "source": [
    "The OLS estimator \n",
    "$$ T( \\hat{\\gamma}_1 - 1 ) \\stackrel{d}{\\to} \\mbox{ a stable distribution}.$$\n",
    "but the asymptotic distribution is not normal. "
   ]
  },
  {
   "cell_type": "code",
   "execution_count": 1,
   "metadata": {
    "scrolled": true,
    "slideshow": {
     "slide_type": "slide"
    }
   },
   "outputs": [
    {
     "name": "stderr",
     "output_type": "stream",
     "text": [
      "\n",
      "Attaching package: 'zoo'\n",
      "\n",
      "\n",
      "The following objects are masked from 'package:base':\n",
      "\n",
      "    as.Date, as.Date.numeric\n",
      "\n",
      "\n",
      "Version 0.4-0 included new data defaults. See ?getSymbols.\n",
      "\n",
      "'getSymbols' currently uses auto.assign=TRUE by default, but will\n",
      "use auto.assign=FALSE in 0.5-0. You will still be able to use\n",
      "'loadSymbols' to automatically load data. getOption(\"getSymbols.env\")\n",
      "and getOption(\"getSymbols.auto.assign\") will still be checked for\n",
      "alternate defaults.\n",
      "\n",
      "This message is shown once per session and may be disabled by setting \n",
      "options(\"getSymbols.warning4.0\"=FALSE). See ?getSymbols for details.\n",
      "\n",
      "\n",
      "\n",
      "WARNING: There have been significant changes to Yahoo Finance data.\n",
      "Please see the Warning section of '?getSymbols.yahoo' for details.\n",
      "\n",
      "This message is shown once per session and may be disabled by setting\n",
      "options(\"getSymbols.yahoo.warning\"=FALSE).\n",
      "\n"
     ]
    },
    {
     "data": {
      "text/html": [
       "'GSPC'"
      ],
      "text/latex": [
       "'GSPC'"
      ],
      "text/markdown": [
       "'GSPC'"
      ],
      "text/plain": [
       "[1] \"GSPC\""
      ]
     },
     "metadata": {},
     "output_type": "display_data"
    },
    {
     "data": {
      "text/plain": [
       "           GSPC.Close\n",
       "2019-10-25    3022.55\n",
       "2019-10-28    3039.42\n",
       "2019-10-29    3036.89\n",
       "2019-10-30    3046.77\n",
       "2019-10-31    3037.56\n",
       "2019-11-01    3066.91"
      ]
     },
     "metadata": {},
     "output_type": "display_data"
    },
    {
     "data": {
      "image/png": "[encoded data removed]",
      "text/plain": [
       "plot without title"
      ]
     },
     "metadata": {
      "image/png": {
       "height": 420,
       "width": 420
      },
      "text/plain": {
       "height": 420,
       "width": 420
      }
     },
     "output_type": "display_data"
    }
   ],
   "source": [
    "library(quantmod, quietly = TRUE)\n",
    "getSymbols(\"^GSPC\") # S&P 500\n",
    "\n",
    "y = GSPC$GSPC.Close\n",
    "plot(y, type = \"l\")\n",
    "\n",
    "tail(y)"
   ]
  },
  {
   "cell_type": "markdown",
   "metadata": {
    "slideshow": {
     "slide_type": "slide"
    }
   },
   "source": [
    "* Null hypothesis: unit root.\n",
    "$$ \\Delta y_t = \\mu + (\\gamma_1 - 1 ) y_{t-1} + e_t = \\mu+ \\theta y_{t-1} + e_t$$\n",
    "where $ \\theta = \\gamma_1 - 1 $. Under the null, $\\theta = 0$.\n",
    "\n",
    "* The $t$-statistic is the test statistic for the Dicky-Fuller test.\n",
    "* Under the null, the $t$-statistic asymptotically follows a pivotal distribution.\n"
   ]
  },
  {
   "cell_type": "markdown",
   "metadata": {
    "slideshow": {
     "slide_type": "slide"
    }
   },
   "source": [
    "* In this numerical example, the test does not reject the null.\n",
    "\n",
    "Notice: the test is one-sided."
   ]
  },
  {
   "cell_type": "code",
   "execution_count": 2,
   "metadata": {
    "scrolled": true,
    "slideshow": {
     "slide_type": "subslide"
    }
   },
   "outputs": [
    {
     "name": "stdout",
     "output_type": "stream",
     "text": [
      "\n",
      "############################################### \n",
      "# Augmented Dickey-Fuller Test Unit Root Test # \n",
      "############################################### \n",
      "\n",
      "Test regression drift \n",
      "\n",
      "\n",
      "Call:\n",
      "lm(formula = z.diff ~ z.lag.1 + 1)\n",
      "\n",
      "Residuals:\n",
      "     Min       1Q   Median       3Q      Max \n",
      "-113.913   -7.288    0.570    8.765  115.965 \n",
      "\n",
      "Coefficients:\n",
      "             Estimate Std. Error t value Pr(>|t|)\n",
      "(Intercept) 0.1298852  0.9845566   0.132    0.895\n",
      "z.lag.1     0.0002149  0.0005259   0.409    0.683\n",
      "\n",
      "Residual standard error: 17.99 on 3229 degrees of freedom\n",
      "Multiple R-squared:  5.169e-05,\tAdjusted R-squared:  -0.000258 \n",
      "F-statistic: 0.1669 on 1 and 3229 DF,  p-value: 0.6829\n",
      "\n",
      "\n",
      "Value of test-statistic is: 0.4085 1.3861 \n",
      "\n",
      "Critical values for test statistics: \n",
      "      1pct  5pct 10pct\n",
      "tau2 -3.43 -2.86 -2.57\n",
      "phi1  6.43  4.59  3.78\n",
      "\n"
     ]
    }
   ],
   "source": [
    "library(urca) # package for unit root and cointegration\n",
    "print( summary(ur.df(y, type = \"drift\", lags = 0) ) )"
   ]
  },
  {
   "cell_type": "code",
   "execution_count": 3,
   "metadata": {
    "scrolled": true
   },
   "outputs": [
    {
     "data": {
      "image/png": "[encoded data removed]",
      "text/plain": [
       "plot without title"
      ]
     },
     "metadata": {
      "image/png": {
       "height": 420,
       "width": 420
      },
      "text/plain": {
       "height": 420,
       "width": 420
      }
     },
     "output_type": "display_data"
    }
   ],
   "source": [
    "y = arima.sim( model = list(ar =.95), n = 100)\n",
    "plot(y)\n"
   ]
  },
  {
   "cell_type": "code",
   "execution_count": 4,
   "metadata": {
    "scrolled": true
   },
   "outputs": [
    {
     "data": {
      "text/plain": [
       "\n",
       "############################################### \n",
       "# Augmented Dickey-Fuller Test Unit Root Test # \n",
       "############################################### \n",
       "\n",
       "Test regression none \n",
       "\n",
       "\n",
       "Call:\n",
       "lm(formula = z.diff ~ z.lag.1 - 1 + z.diff.lag)\n",
       "\n",
       "Residuals:\n",
       "    Min      1Q  Median      3Q     Max \n",
       "-1.8996 -0.7501 -0.1198  0.6623  2.0921 \n",
       "\n",
       "Coefficients:\n",
       "           Estimate Std. Error t value Pr(>|t|)   \n",
       "z.lag.1    -0.04262    0.02519  -1.692   0.0939 . \n",
       "z.diff.lag  0.26006    0.09753   2.666   0.0090 **\n",
       "---\n",
       "Signif. codes:  0 '***' 0.001 '**' 0.01 '*' 0.05 '.' 0.1 ' ' 1\n",
       "\n",
       "Residual standard error: 0.9095 on 96 degrees of freedom\n",
       "Multiple R-squared:  0.08514,\tAdjusted R-squared:  0.06608 \n",
       "F-statistic: 4.467 on 2 and 96 DF,  p-value: 0.01396\n",
       "\n",
       "\n",
       "Value of test-statistic is: -1.6919 \n",
       "\n",
       "Critical values for test statistics: \n",
       "     1pct  5pct 10pct\n",
       "tau1 -2.6 -1.95 -1.61\n"
      ]
     },
     "metadata": {},
     "output_type": "display_data"
    }
   ],
   "source": [
    "library(urca); summary( ur.df( y, type = \"none\", selectlags = \"AIC\" ) ) # , "
   ]
  },
  {
   "cell_type": "markdown",
   "metadata": {
    "slideshow": {
     "slide_type": "slide"
    }
   },
   "source": [
    "## Specification of DF test\n",
    "\n",
    "* Drift and trend\n",
    "* Augmented Dicky-Fuller test: add more differenced lag terms"
   ]
  },
  {
   "cell_type": "markdown",
   "metadata": {
    "slideshow": {
     "slide_type": "slide"
    }
   },
   "source": [
    "## Other tests\n",
    "* Phillips-Perron test\n",
    "* KPSS test"
   ]
  },
  {
   "cell_type": "markdown",
   "metadata": {
    "slideshow": {
     "slide_type": "slide"
    }
   },
   "source": [
    "# Cointegration\n",
    "\n",
    "In a regression\n",
    "$$y_t = \\beta x_t  + e_t$$\n",
    "\n",
    "* If $y_t$ and $x_t$ are I(1) series\n",
    "* But a linear combination $e_t = y_t - \\beta x_t $ is I(0)\n",
    "\n",
    "then we say $y_t$ and $x_t$ are cointegrated."
   ]
  },
  {
   "cell_type": "code",
   "execution_count": 5,
   "metadata": {
    "slideshow": {
     "slide_type": "slide"
    }
   },
   "outputs": [],
   "source": [
    "data(denmark)\n",
    "?denmark"
   ]
  },
  {
   "cell_type": "markdown",
   "metadata": {
    "slideshow": {
     "slide_type": "-"
    }
   },
   "source": [
    "period: Time index from 1974:Q1 until 1987:Q3.\n",
    "* `LRM`\tLogarithm of real money, M2.\n",
    "* `LRY`\tLogarithm of real income.\n",
    "* `LPY`\tLogarithm of price deflator.\n",
    "* `IBO`\tBond rate.\n",
    "* `IDE`\tBank deposit rate."
   ]
  },
  {
   "cell_type": "code",
   "execution_count": 6,
   "metadata": {
    "slideshow": {
     "slide_type": "subslide"
    }
   },
   "outputs": [
    {
     "data": {
      "image/png": "[encoded data removed]",
      "text/plain": [
       "plot without title"
      ]
     },
     "metadata": {
      "image/png": {
       "height": 420,
       "width": 420
      },
      "text/plain": {
       "height": 420,
       "width": 420
      }
     },
     "output_type": "display_data"
    }
   ],
   "source": [
    "sjd <- denmark[, c(\"LRM\", \"LRY\", \"IBO\", \"IDE\")]\n",
    "matplot(sjd[,c(3,4)], type = \"l\")"
   ]
  },
  {
   "cell_type": "code",
   "execution_count": 7,
   "metadata": {
    "slideshow": {
     "slide_type": "subslide"
    }
   },
   "outputs": [
    {
     "data": {
      "image/png": "[encoded data removed]",
      "text/plain": [
       "plot without title"
      ]
     },
     "metadata": {
      "image/png": {
       "height": 420,
       "width": 420
      },
      "text/plain": {
       "height": 420,
       "width": 420
      }
     },
     "output_type": "display_data"
    }
   ],
   "source": [
    "y = sjd[,3]; x = sjd[,4]\n",
    "reg = lm(y~x)\n",
    "plot(residuals(reg), type = \"l\")"
   ]
  },
  {
   "cell_type": "markdown",
   "metadata": {
    "slideshow": {
     "slide_type": "slide"
    }
   },
   "source": [
    "# Source of Cointegration\n",
    "\n",
    "Common shock is the source of cointegration\n",
    "\n",
    "For example, if $y_{1t} = \\mu_1 + \\beta_1 t + e_{1t}$ and $y_{2t} = \\mu_2 + \\beta_2 t + e_{2t}$, where $e_{1t}$ and $e_{2t}$ are two white noises, then the cointegration vector must be $(1,\\theta)$ where $$\\theta = - \\beta_1 / \\beta_2$$."
   ]
  },
  {
   "cell_type": "markdown",
   "metadata": {
    "slideshow": {
     "slide_type": "slide"
    }
   },
   "source": [
    "# Cointegration \n",
    "\n",
    "More generally, for an $m$-vector $y_t$ is cointegrated if there exists a parameter vector $\\gamma$ (normalize the first element to be 1) such that $y_t ' \\gamma$ is I(0).\n",
    "\n"
   ]
  },
  {
   "cell_type": "markdown",
   "metadata": {
    "slideshow": {
     "slide_type": "fragment"
    }
   },
   "source": [
    "* The number of linear independent cointegrated vectors is called the **cointegration rank**. \n",
    "* The cointegration rank arranges from 1 to $m-1$."
   ]
  },
  {
   "cell_type": "markdown",
   "metadata": {
    "slideshow": {
     "slide_type": "slide"
    }
   },
   "source": [
    "# Vector Autoregression (VAR)\n",
    "\n",
    "Christopher Sims (Nobel Prize 2011)\n",
    "\n",
    "An $m$-equation system\n",
    "$$ y_t = \\mu + \\Gamma_1 y_{t-1} + \\cdots + \\Gamma_p y_{t-p} + v_t $$\n",
    "where $E[ v_t v_t'] = \\Omega$.\n",
    "\n",
    "For prediction purpose, as a reduced-form of structural simultaneous equations."
   ]
  },
  {
   "cell_type": "markdown",
   "metadata": {
    "slideshow": {
     "slide_type": "subslide"
    }
   },
   "source": [
    "### Estimation\n",
    "\n",
    "* For consistency and asymptotic normality, use OLS equation by equation\n",
    "* For asymptotic efficient, use multiple-equation GLS\n",
    "\n"
   ]
  },
  {
   "cell_type": "markdown",
   "metadata": {
    "slideshow": {
     "slide_type": "skip"
    }
   },
   "source": [
    "# Invertibility\n",
    "\n",
    "Write the VAR(p) as\n",
    "$$ (I_m - \\Gamma (L) ) y_t = \\mu + v_t $$ \n",
    "where $\\Gamma(z) = \\Gamma_1 z + \\cdots + \\Gamma_p z^p$. \n",
    "\n",
    "Stable means that all roots of the $p$th order polynomial equation $$ I_m - \\Gamma(z)  = 0_m $$ lies out of the unit circle."
   ]
  },
  {
   "cell_type": "markdown",
   "metadata": {
    "slideshow": {
     "slide_type": "slide"
    }
   },
   "source": [
    "# Impulse Response Function\n",
    "\n",
    "IRF characterizes the diffusion of an exogenous shock with the dynamic system.\n",
    "\n",
    "$$\n",
    "\\begin{align*}\n",
    "y_t & = (I_m - \\Gamma(L) )^{-1} (\\mu + v_t) \\\\\n",
    "    & = \\bar{y} + \\left( v_t + \\sum_{i=1}^{\\infty} A_i v_{t-i} \\right)\n",
    "\\end{align*}\n",
    "$$ where $\\bar{y} = (I_m - \\Gamma(L) )^{-1} \\mu = ( I_m + \\sum_{i=1}^{\\infty} A_i ) \\mu $."
   ]
  },
  {
   "cell_type": "code",
   "execution_count": null,
   "metadata": {
    "slideshow": {
     "slide_type": "slide"
    }
   },
   "outputs": [],
   "source": [
    "library(tsDyn)\n",
    "data(barry)\n",
    "plot(barry)"
   ]
  },
  {
   "cell_type": "code",
   "execution_count": null,
   "metadata": {
    "slideshow": {
     "slide_type": "subslide"
    }
   },
   "outputs": [],
   "source": [
    "## For VAR\n",
    "mod_var <- lineVar(barry, lag = 2)\n",
    "print(mod_var)"
   ]
  },
  {
   "cell_type": "code",
   "execution_count": null,
   "metadata": {
    "slideshow": {
     "slide_type": "subslide"
    }
   },
   "outputs": [],
   "source": [
    "\n",
    "irf_var = irf(mod_var, impulse = \"dolcan\", response = c(\"dolcan\", \"cpiUSA\", \"cpiCAN\"), boot = FALSE)\n",
    "print(irf_var)"
   ]
  },
  {
   "cell_type": "code",
   "execution_count": null,
   "metadata": {
    "slideshow": {
     "slide_type": "subslide"
    }
   },
   "outputs": [],
   "source": [
    "plot(irf_var)"
   ]
  },
  {
   "cell_type": "code",
   "execution_count": null,
   "metadata": {
    "slideshow": {
     "slide_type": "subslide"
    }
   },
   "outputs": [],
   "source": [
    "## For VECM\n",
    "mod_VECM <- VECM(barry, lag = 2, estim=\"ML\", r=2)\n",
    "print(mod_VECM)\n",
    "irf_vecm = irf(mod_VECM, impulse = \"dolcan\", response = c(\"dolcan\", \"cpiUSA\", \"cpiCAN\"), boot = FALSE)\n",
    "print(irf_vecm)"
   ]
  },
  {
   "cell_type": "code",
   "execution_count": null,
   "metadata": {
    "slideshow": {
     "slide_type": "subslide"
    }
   },
   "outputs": [],
   "source": [
    "plot(irf_vecm)"
   ]
  },
  {
   "cell_type": "markdown",
   "metadata": {
    "slideshow": {
     "slide_type": "slide"
    }
   },
   "source": [
    "# Structural VAR\n",
    "\n",
    "* Unrestricted VAR: too many parameters? $m+p\\cdot m^2 + m(m+1)/2$\n",
    "* Use economic theory to reduce the number of unknown parameters"
   ]
  },
  {
   "cell_type": "markdown",
   "metadata": {
    "slideshow": {
     "slide_type": "slide"
    }
   },
   "source": [
    "# VECM Representation\n",
    "\n",
    "For the $m$-equation VAR system \n",
    "$$y_t = \\Gamma y_{t-1} + e_t,$$ we can rewrite it as\n",
    "$$ \\Delta y_t = (\\Gamma - I_m) y_{t-1} + e_t = \\Pi y_{t-1} + e_t.$$\n",
    "\n",
    "* Since LHS is stationary, the $m\\times m$ matrix $\\Pi$ on the RHS must only have rank $r$. \n",
    "* Otherwise, the RHS will be I(1) and the two sides of the equation are unbalanced.\n",
    "* VECM is the base for the cointegration rank test (Johansen, 1992)."
   ]
  },
  {
   "cell_type": "markdown",
   "metadata": {
    "slideshow": {
     "slide_type": "slide"
    }
   },
   "source": [
    "# Numerical Example: Johansen Test\n",
    "\n",
    "The result shows that there is only 1 cointegration relationship among the 4 time series."
   ]
  },
  {
   "cell_type": "code",
   "execution_count": 8,
   "metadata": {
    "slideshow": {
     "slide_type": "subslide"
    }
   },
   "outputs": [
    {
     "data": {
      "text/plain": [
       "\n",
       "###################### \n",
       "# Johansen-Procedure # \n",
       "###################### \n",
       "\n",
       "Test type: maximal eigenvalue statistic (lambda max) , without linear trend and constant in cointegration \n",
       "\n",
       "Eigenvalues (lambda):\n",
       "[1]  4.696767e-01  1.742411e-01  1.180826e-01  4.224854e-02 -7.593466e-17\n",
       "\n",
       "Values of teststatistic and critical values of test:\n",
       "\n",
       "          test 10pct  5pct  1pct\n",
       "r <= 3 |  2.29  7.52  9.24 12.97\n",
       "r <= 2 |  6.66 13.75 15.67 20.20\n",
       "r <= 1 | 10.15 19.77 22.00 26.81\n",
       "r = 0  | 33.62 25.56 28.14 33.24\n",
       "\n",
       "Eigenvectors, normalised to first column:\n",
       "(These are the cointegration relations)\n",
       "\n",
       "             LRM.l2     LRY.l2    IBO.l2      IDE.l2   constant\n",
       "LRM.l2    1.0000000  1.0000000  1.000000   1.0000000  1.0000000\n",
       "LRY.l2   -0.9691164 -1.3759873 -2.259218  -0.1438558 -0.4095683\n",
       "IBO.l2    5.4027719 -0.3351646  1.640803 -11.7073710  2.3548120\n",
       "IDE.l2   -4.1403255  9.0058943 -3.719279   7.5375133 -1.1374017\n",
       "constant -6.4780511 -4.3297635  1.786142 -10.2593484 -9.5375812\n",
       "\n",
       "Weights W:\n",
       "(This is the loading matrix)\n",
       "\n",
       "            LRM.l2        LRY.l2       IBO.l2        IDE.l2      constant\n",
       "LRM.d -0.299784297 -0.0253307615  0.066658856 -4.074835e-03  4.627902e-13\n",
       "LRY.d  0.026943026 -0.0002905265  0.102017360 -1.281978e-03 -5.085113e-14\n",
       "IBO.d  0.003921355 -0.0102805673  0.006040391  2.475915e-03  6.638524e-16\n",
       "IDE.d  0.020000889 -0.0263315718 -0.003826538  8.153524e-06 -1.304895e-14\n"
      ]
     },
     "metadata": {},
     "output_type": "display_data"
    }
   ],
   "source": [
    "sjd.vecm = ca.jo(sjd, ecdet = \"const\", type=\"eigen\", K=2, spec=\"longrun\")\n",
    "summary(sjd.vecm)\n"
   ]
  }
 ],
 "metadata": {
  "celltoolbar": "Slideshow",
  "kernel_info": {
   "name": "ir"
  },
  "kernelspec": {
   "display_name": "R",
   "language": "R",
   "name": "ir"
  },
  "language_info": {
   "codemirror_mode": "r",
   "file_extension": ".r",
   "mimetype": "text/x-r-source",
   "name": "R",
   "pygments_lexer": "r",
   "version": "3.5.2"
  },
  "nteract": {
   "version": "0.12.3"
  }
 },
 "nbformat": 4,
 "nbformat_minor": 2
}

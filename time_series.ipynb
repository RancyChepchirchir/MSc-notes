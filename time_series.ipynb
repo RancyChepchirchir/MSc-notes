{
 "cells": [
  {
   "cell_type": "markdown",
   "metadata": {
    "slideshow": {
     "slide_type": "slide"
    }
   },
   "source": [
    "   \n",
    "   # Econ5121 B&C (Fall 2019)\n",
    "\n",
    "### Zhentao Shi\n",
    "\n",
    "* Time Series Regression\n",
    "* Univariate Time Series Models\n",
    "* Nonstationary Time Series\n",
    "* Multivariate Time Series"
   ]
  },
  {
   "cell_type": "markdown",
   "metadata": {
    "slideshow": {
     "slide_type": "slide"
    }
   },
   "source": [
    "### Useful R Packages\n",
    "\n",
    "* `quantmod`: financial and US macro data\n",
    "* `Quandl`: many data resources\n",
    "\n",
    "* `dynlm`: single-equation dynamic model\n",
    "* `tsDyn`: multiple-equation dynamic models"
   ]
  },
  {
   "cell_type": "code",
   "execution_count": null,
   "metadata": {
    "scrolled": true,
    "slideshow": {
     "slide_type": "subslide"
    }
   },
   "outputs": [],
   "source": [
    "library(quantmod, quietly = TRUE)\n",
    "getSymbols(\"^HSI\")\n",
    "\n",
    "tail(HSI)\n",
    "plot(HSI$HSI.Close, type = \"l\")"
   ]
  },
  {
   "cell_type": "code",
   "execution_count": null,
   "metadata": {
    "scrolled": false,
    "slideshow": {
     "slide_type": "subslide"
    }
   },
   "outputs": [],
   "source": [
    "library(Quandl)\n",
    "CNH=Quandl(\"UNAE/GDPCD_CHN\") #https://www.quandl.com/data/UNAE/GDPCD_CHN-GDP-Current-Prices-US-Dollars-China\n",
    "HKG=Quandl(\"UNAE/GDPCD_HKG\") #https://www.quandl.com/data/UNAE/GDPCD_HKG-GDP-Current-Prices-US-Dollars-China-Hong-Kong-SAR\n",
    "\n",
    "head(CNH)\n",
    "head(HKG)"
   ]
  },
  {
   "cell_type": "markdown",
   "metadata": {
    "slideshow": {
     "slide_type": "slide"
    }
   },
   "source": [
    "# Dynamic regression model\n",
    "\n",
    "$$\n",
    "y_t = \\beta_1 + \\beta_2 x_t + \\beta_3 x_{t-1} + \\gamma y_{t-1} + e_t\n",
    "$$"
   ]
  },
  {
   "cell_type": "markdown",
   "metadata": {
    "slideshow": {
     "slide_type": "fragment"
    }
   },
   "source": [
    "## Motivations\n",
    "\n",
    "* temporal lags of effect. eg: policy lag\n",
    "* expectation formed from the past. eg: forecast\n",
    "* explicitly depends on history. eg: wealth accumulation"
   ]
  },
  {
   "cell_type": "code",
   "execution_count": null,
   "metadata": {
    "scrolled": false,
    "slideshow": {
     "slide_type": "subslide"
    }
   },
   "outputs": [],
   "source": [
    "library(quantmod)\n",
    "getSymbols.FRED(Symbols = \"POILBREUSDQ\", env = .GlobalEnv) # Brent Oil price\n",
    "x = POILBREUSDQ; T = length(x)\n",
    "getSymbols.FRED(Symbols = \"IPB50001SQ\", env = .GlobalEnv) # Instrial Index (quaterly data)\n",
    "Ty = length(IPB50001SQ); y = IPB50001SQ[(Ty - T + 1):Ty]\n",
    "\n",
    "# quaterly data. Start 1990, end 2019\n",
    "\n",
    "x = ts(x); y = ts(y)\n",
    "plot(cbind(y,x), main = \"\")"
   ]
  },
  {
   "cell_type": "markdown",
   "metadata": {
    "slideshow": {
     "slide_type": "subslide"
    }
   },
   "source": [
    "### ARDL(1,1) regression example"
   ]
  },
  {
   "cell_type": "code",
   "execution_count": null,
   "metadata": {
    "slideshow": {
     "slide_type": "-"
    }
   },
   "outputs": [],
   "source": [
    "library(dynlm)\n",
    "reg = dynlm( y ~ L(y, c(1) ) + L(x,c(0:1) ) )  \n",
    "print(summary(reg))"
   ]
  },
  {
   "cell_type": "markdown",
   "metadata": {
    "slideshow": {
     "slide_type": "slide"
    }
   },
   "source": [
    "# Lagged Effect\n",
    "\n",
    "$$y_t = \\alpha + \\sum_{i=0}^{\\infty} \\beta_i  x_{t-i} + e_t$$\n",
    "\n",
    "## Interpretation as a generative model\n",
    "\n",
    "* Impact multiplier: $\\beta_0$\n",
    "* Cumulated effect (of $\\tau$ periods): $\\sum_{i=0}^{\\tau} \\beta_i $\n",
    "* Equilibrium multiplier: $\\sum_{i=0}^{\\infty} \\beta_i $"
   ]
  },
  {
   "cell_type": "markdown",
   "metadata": {
    "slideshow": {
     "slide_type": "slide"
    }
   },
   "source": [
    "# Lag Operator\n",
    "\n",
    "$$L x_t = x_{t-1}$$\n",
    "$$L^{\\tau} x_t = x_{t-\\tau}$$ \n",
    "\n",
    "## Difference operator\n",
    "$$\\Delta x_t = x_t - x_{t-1} = (1-L) x_t$$"
   ]
  },
  {
   "cell_type": "markdown",
   "metadata": {
    "slideshow": {
     "slide_type": "slide"
    }
   },
   "source": [
    "# Stationary time series\n",
    "\n",
    "For a univariate time series $(y_t)_{t= - \\infty} ^ {\\infty}$,\n",
    "* **Strictly stationary**: joint distribution of any finite coordinate only depends on their relative position.\n",
    "* **Weakly stationary**: the first two moments of any pair $y_t$ and $y_s$ only depends on their relative position.\n",
    "    * $E[y_t] = \\mu$ for all $t$\n",
    "    * $\\mathrm{var}[y_t] = \\sigma^2$ for all $t$\n",
    "    * $\\mathrm{cov}[y_t, y_{t+\\tau} ] $ only depends on $\\tau$ independent of $t$\n"
   ]
  },
  {
   "cell_type": "markdown",
   "metadata": {
    "slideshow": {
     "slide_type": "subslide"
    }
   },
   "source": [
    "\n",
    "This notion can be extended to multiple-variate time series, for example $(y_t, x_t, e_t)$."
   ]
  },
  {
   "cell_type": "markdown",
   "metadata": {
    "slideshow": {
     "slide_type": "slide"
    }
   },
   "source": [
    "## Dynamic regression model\n",
    "\n",
    "$$y_t = \\alpha + \\sum_{i=0}^{\\infty} \\beta_i  x_{t-i} + e_t = \\alpha + B(L) x_t + e_t $$\n",
    "where $$B(L) = \\sum_{i=0}^{\\infty} \\beta_i L^i$$ is a polynomial of the lag operators."
   ]
  },
  {
   "cell_type": "markdown",
   "metadata": {
    "slideshow": {
     "slide_type": "slide"
    }
   },
   "source": [
    "## Autoregressive model\n",
    "$$y_t = \\alpha + \\sum_{i=1}^p \\gamma_p y_{t-p} + e_t $$ can be written as \n",
    "$$ C(L) y_t = \\alpha + e_t $$ where $$C(L) = 1 -\\gamma_1 L - \\cdots - \\gamma_p L^p $$ is a polynomial of the lag operators."
   ]
  },
  {
   "cell_type": "markdown",
   "metadata": {
    "slideshow": {
     "slide_type": "slide"
    }
   },
   "source": [
    "# Invertibility\n",
    "\n",
    "If the roots of the polynomial equation $C(z) = 0$ **all** lies **outside** of the unit circle, we say the autoregressive model is invertible."
   ]
  },
  {
   "cell_type": "markdown",
   "metadata": {
    "slideshow": {
     "slide_type": "subslide"
    }
   },
   "source": [
    "More generally, in the polynomial equation $C(z) = 0$, the root with the smallest module determines the trend of the time series.\n",
    "\n",
    "If $e_t$ is stationary with finite variance and $\\alpha=0$ (homogenous difference equation):\n",
    "* If the module of the smallest root is bigger than 1, $y_t$ is a stationary time series\n",
    "* If the module of the smallest root is equal to 1, $y_t$ is a **unit root** process\n",
    "* If the module of the smallest root is smaller than 1, $y_t$ is an **explosive** process"
   ]
  },
  {
   "cell_type": "markdown",
   "metadata": {
    "slideshow": {
     "slide_type": "slide"
    }
   },
   "source": [
    "\n",
    "### Numerical Example\n",
    "\n",
    "* $C(L) = 1 - 0.5L$ is invertible.\n",
    "* $C(L) = 1 - L$ is non-invertible.\n",
    "* $C(L) = 1 - 1.1L$ is non-invertible."
   ]
  },
  {
   "cell_type": "code",
   "execution_count": null,
   "metadata": {
    "slideshow": {
     "slide_type": "fragment"
    }
   },
   "outputs": [],
   "source": [
    "AR = function(b,T){\n",
    "    y = rep(0,T)\n",
    "    for (t in 1:T){\n",
    "        if (t > 1) {\n",
    "            y[t] = b * y[t - 1] + rnorm(1)\n",
    "        }\n",
    "    }\n",
    "    return(ts(y) )\n",
    "}"
   ]
  },
  {
   "cell_type": "code",
   "execution_count": null,
   "metadata": {
    "slideshow": {
     "slide_type": "subslide"
    }
   },
   "outputs": [],
   "source": [
    "T = 100; plot( x = 1:T, y = AR(0.5, T), type = \"l\")"
   ]
  },
  {
   "cell_type": "code",
   "execution_count": null,
   "metadata": {
    "scrolled": false,
    "slideshow": {
     "slide_type": "subslide"
    }
   },
   "outputs": [],
   "source": [
    "T = 100; plot( x = 1:T, y = AR(1.0, T), type = \"l\")"
   ]
  },
  {
   "cell_type": "code",
   "execution_count": null,
   "metadata": {
    "scrolled": false,
    "slideshow": {
     "slide_type": "subslide"
    }
   },
   "outputs": [],
   "source": [
    "T = 100; plot( x = 1:T, y = AR(1.05,T), type = \"l\")"
   ]
  },
  {
   "cell_type": "markdown",
   "metadata": {
    "slideshow": {
     "slide_type": "slide"
    }
   },
   "source": [
    "# Autoregressive Distributed Lag Models\n",
    "\n",
    "\n",
    "ARDL(p,r) model:\n",
    "$$C(L) y_t = \\mu + B(L) x_t + e_t $$ \n",
    "where \n",
    "$$C(L) = 1 -\\gamma_1 L - \\cdots - \\gamma_p L^p$$\n",
    "and \n",
    "$$B(L) =  \\beta_0 + \\beta_1 L + \\cdots + \\beta_r L^r.$$\n",
    "\n",
    "**Granger causality**: $\\beta_0 = \\beta_1 = \\cdots = \\beta_r = 0$."
   ]
  },
  {
   "cell_type": "markdown",
   "metadata": {
    "slideshow": {
     "slide_type": "slide"
    }
   },
   "source": [
    "# Model Specification\n",
    "\n",
    "Information criterion. \n",
    "\n",
    "Let $k$ be the total number of slope coefficient in the model.\n",
    "\n",
    "* Akaike information criterion: $\\log( \\hat{\\sigma}^2 ) + 2\\times (k / T )$. \n",
    "    * Tend to overfit, but better for prediction\n",
    "* Bayesian information criterion: $\\log( \\hat{\\sigma}^2 ) + \\log(T) \\times (k / T )$\n",
    "    * Model selection consistent"
   ]
  },
  {
   "cell_type": "markdown",
   "metadata": {
    "slideshow": {
     "slide_type": "slide"
    }
   },
   "source": [
    "# Seasonality\n",
    "\n",
    "* Generated due to sampling frequency\n",
    "* Add dummies to control seasonality"
   ]
  },
  {
   "cell_type": "markdown",
   "metadata": {
    "slideshow": {
     "slide_type": "slide"
    }
   },
   "source": [
    "\n",
    "# Spurious Regression\n",
    "\n",
    "\n",
    "* The two time series $\\{y_t\\}$ and $\\{x_t\\}$ are generated independently, so that $E[y_t|x_t] = 0$. \n",
    "* However, we observe a high $R^2$ and large t-value if we regression $y_t$ against $x_t$.\n"
   ]
  },
  {
   "cell_type": "code",
   "execution_count": null,
   "metadata": {
    "scrolled": false,
    "slideshow": {
     "slide_type": "subslide"
    }
   },
   "outputs": [],
   "source": [
    "T = 50\n",
    "a = 1\n",
    "\n",
    "y <- AR(a, T)\n",
    "x <- AR(a, T)\n",
    "matplot( cbind(y, x), type = \"l\", ylab = \"\" )"
   ]
  },
  {
   "cell_type": "code",
   "execution_count": null,
   "metadata": {
    "scrolled": false,
    "slideshow": {
     "slide_type": "subslide"
    }
   },
   "outputs": [],
   "source": [
    "reg <- lm(y ~ x)\n",
    "summary(reg)"
   ]
  },
  {
   "cell_type": "markdown",
   "metadata": {
    "slideshow": {
     "slide_type": "slide"
    }
   },
   "source": [
    "Granger and Newbold (1974)\n",
    "\n",
    "run a regression to check that if we naively use 1.96 as the critical value for the $t$-ratio, how often we would reject the null hypothesis that $\\beta = 0$. \n",
    "\n",
    "* The nominal asymptotic test size is $5\\%$ according to the standard asymptotic theory\n",
    "* The empirical size is about 0.80 in this simulation\n",
    "* The drastic deviation suggests that the standard asymptotic theory fails in the nonstationary environment.\n"
   ]
  },
  {
   "cell_type": "code",
   "execution_count": null,
   "metadata": {
    "slideshow": {
     "slide_type": "subslide"
    }
   },
   "outputs": [],
   "source": [
    "spurious <- function(i, a, T){\n",
    "    y <- AR(a, T)\n",
    "    x <- AR(a, T)\n",
    "    \n",
    "    reg <- lm(y ~ x)\n",
    "    p.val <- summary(reg)[[4]][2,4]\n",
    "    # save the p-value of the estimate of x's coefficient\n",
    "    return(p.val)\n",
    "}\n",
    "\n",
    "library(\"plyr\")\n",
    "out <- ldply(.data = 1:1000, .fun = spurious, a = 1.0 , T = 100)\n",
    "print( mean(out < 0.05) )"
   ]
  },
  {
   "cell_type": "markdown",
   "metadata": {
    "slideshow": {
     "slide_type": "slide"
    }
   },
   "source": [
    "# Error Correction Model\n",
    "\n",
    "Cliver Granger (Nobel prize 2001)\n",
    "\n",
    "Subtract $y_{t-1}$ from both sides of the ARDL(1,1) model\n",
    "$$\n",
    "\\begin{align*}\n",
    "\\Delta y_t & = \\mu + \\beta_0 x_t + \\beta_1 x_{t-1} + (\\gamma_1 -1 ) y_{t-1} + e_t  \\\\\n",
    "           & = \\mu + \\beta_0 \\Delta x_t + (\\beta_1 + \\beta_0) x_{t-1} + (\\gamma_1 -1 ) y_{t-1} + e_t  \\\\\n",
    "           & = \\mu + \\beta_0 \\Delta x_t + (\\gamma_1 -1 )( y_{t-1} - \\theta x_{t-1} ) + e_t  \n",
    "\\end{align*}\n",
    "$$\n",
    "where $\\theta =  (\\beta_1 + \\beta_0)/(1 - \\gamma_1)$.\n",
    "\n",
    "* A short-run relationship $\\Delta y_t = \\mu + \\beta_0 \\Delta x_t + e_t$.\n",
    "* An long-run equilibrium error $(\\gamma_1 - 1 ) (y_{t-1} - \\theta x_{t-1} ) $.\n",
    "\n"
   ]
  },
  {
   "cell_type": "markdown",
   "metadata": {
    "slideshow": {
     "slide_type": "subslide"
    }
   },
   "source": [
    "When $y_t$ is nonstationary\n",
    "\n",
    "\n",
    "* First difference recovers stationarity\n",
    "* Useful to identify spurious regression\n",
    "* Can be estimated either by OLS or by NLS"
   ]
  }
 ],
 "metadata": {
  "celltoolbar": "Slideshow",
  "kernel_info": {
   "name": "ir"
  },
  "kernelspec": {
   "display_name": "R",
   "language": "R",
   "name": "ir"
  },
  "language_info": {
   "codemirror_mode": "r",
   "file_extension": ".r",
   "mimetype": "text/x-r-source",
   "name": "R",
   "pygments_lexer": "r",
   "version": "3.5.2"
  },
  "nteract": {
   "version": "0.15.0"
  }
 },
 "nbformat": 4,
 "nbformat_minor": 2
}
